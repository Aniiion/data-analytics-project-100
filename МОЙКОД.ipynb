{
 "cells": [
  {
   "cell_type": "code",
   "execution_count": 18,
   "id": "85af312c-c8a4-491a-b99f-fcfb7468f1c8",
   "metadata": {},
   "outputs": [],
   "source": [
    "import pandas as pd\n",
    "import requests"
   ]
  },
  {
   "cell_type": "code",
   "execution_count": 20,
   "id": "4c4c12ed-ccee-4b3f-a043-21ad135b3236",
   "metadata": {
    "scrolled": true
   },
   "outputs": [
    {
     "name": "stdout",
     "output_type": "stream",
     "text": [
      "                               visit_id platform  \\\n",
      "0  1de9ea66-70d3-4a1f-8735-df5ef7697fb9      web   \n",
      "1  f149f542-e935-4870-9734-6b4501eaf614      web   \n",
      "2  08f0ebd4-950c-4dd9-8e97-b5bdf073eed1      web   \n",
      "3  19322fed-157c-49c6-b16e-2d5cabeb9592      web   \n",
      "4  04762a22-3c9f-40c9-9ac9-6628c4381836      web   \n",
      "\n",
      "                                          user_agent             datetime  \n",
      "0  Mozilla/5.0 (Windows NT 10.0; Win64; x64) Appl...  2023-03-01T10:36:22  \n",
      "1  Mozilla/5.0 (Windows NT 10.0; WOW64; Trident/7...  2023-03-01T06:25:00  \n",
      "2  Mozilla/5.0 (Macintosh; Intel Mac OS X 10_11_2...  2023-03-01T10:26:13  \n",
      "3  Mozilla/5.0 (Macintosh; Intel Mac OS X 10_15_7...  2023-03-01T12:33:06  \n",
      "4  Mozilla/5.0 (Windows NT 10.0; Win64; x64) Appl...  2023-03-01T01:38:35  \n",
      "              datetime                               user_id  \\\n",
      "0  2023-03-01T07:40:13  2e0f6bb8-b029-4f45-a786-2b53990d37f1   \n",
      "1  2023-03-01T13:14:00  f007f97c-9d8b-48b5-af08-119bb8f6d9b6   \n",
      "2  2023-03-01T03:05:50  24ff46ae-32b3-4a74-8f27-7cf0b8f32f15   \n",
      "3  2023-03-01T00:04:47  3e9914e1-5d73-4c23-b25d-b59a3aeb2b60   \n",
      "4  2023-03-01T18:31:52  27f875fc-f8ce-4aeb-8722-0ecb283d0760   \n",
      "\n",
      "                        email platform registration_type  \n",
      "0           ebyrd@example.org      web            google  \n",
      "1    knightgerald@example.org      web             email  \n",
      "2  cherylthompson@example.com      web             apple  \n",
      "3       halldavid@example.org      web             email  \n",
      "4        denise86@example.net      web            google  \n"
     ]
    }
   ],
   "source": [
    "# Задаем даты\n",
    "start_date = '2023-03-01'\n",
    "end_date = '2023-09-01'\n",
    "\n",
    "# Данные о посещениях\n",
    "visits_url = f'https://data-charts-api.hexlet.app/visits?begin={start_date}&end={end_date}'\n",
    "visits_response = requests.get(visits_url)\n",
    "visits_data = visits_response.json()\n",
    "\n",
    "# Данные о регистрациях\n",
    "registrations_url = f'https://data-charts-api.hexlet.app/registrations?begin={start_date}&end={end_date}'\n",
    "registrations_response = requests.get(registrations_url)\n",
    "registrations_data = registrations_response.json()\n",
    "\n",
    "# Преобразуем в DataFrame\n",
    "visits_df = pd.DataFrame(visits_data)\n",
    "registrations_df = pd.DataFrame(registrations_data)\n",
    "\n",
    "# Несколько строк данных\n",
    "print(visits_df.head())\n",
    "print(registrations_df.head())"
   ]
  },
  {
   "cell_type": "code",
   "execution_count": 21,
   "id": "4ee52b63-1f0c-4d8a-a1d8-a7cb4a4d2fa9",
   "metadata": {},
   "outputs": [
    {
     "name": "stdout",
     "output_type": "stream",
     "text": [
      "                                    visit_id platform  \\\n",
      "count                                 263459   263459   \n",
      "unique                                146085        4   \n",
      "top     64167edd-323a-4ab0-be9b-acd237a1ac30      web   \n",
      "freq                                       4   236301   \n",
      "\n",
      "                                               user_agent             datetime  \n",
      "count                                              263459               263459  \n",
      "unique                                                 32               261204  \n",
      "top     Mozilla/5.0 (X11; Ubuntu; Linux x86_64; rv:109...  2023-07-06T10:45:50  \n",
      "freq                                                13623                    3  \n",
      "                   datetime                               user_id  \\\n",
      "count                 21836                                 21836   \n",
      "unique                21821                                 21836   \n",
      "top     2023-06-23T13:10:45  2e0f6bb8-b029-4f45-a786-2b53990d37f1   \n",
      "freq                      2                                     1   \n",
      "\n",
      "                     email platform registration_type  \n",
      "count                21836    21836             21836  \n",
      "unique               20868        3                 4  \n",
      "top     ujones@example.com  android             email  \n",
      "freq                     6    10582              8996  \n"
     ]
    }
   ],
   "source": [
    "# Предварительный анализ данных\n",
    "print(visits_df.describe())\n",
    "print(registrations_df.describe())"
   ]
  }
 ],
 "metadata": {
  "kernelspec": {
   "display_name": "Python [conda env:anaconda3]",
   "language": "python",
   "name": "conda-env-anaconda3-py"
  },
  "language_info": {
   "codemirror_mode": {
    "name": "ipython",
    "version": 3
   },
   "file_extension": ".py",
   "mimetype": "text/x-python",
   "name": "python",
   "nbconvert_exporter": "python",
   "pygments_lexer": "ipython3",
   "version": "3.11.5"
  }
 },
 "nbformat": 4,
 "nbformat_minor": 5
}
