{
 "cells": [
  {
   "cell_type": "code",
   "execution_count": 12,
   "id": "01fd112e-2165-4b16-92c1-797a9e9a69e6",
   "metadata": {},
   "outputs": [],
   "source": [
    "import pandas as pd\n",
    "import requests"
   ]
  },
  {
   "cell_type": "code",
   "execution_count": null,
   "id": "4c4c12ed-ccee-4b3f-a043-21ad135b3236",
   "metadata": {},
   "outputs": [],
   "source": [
    "# Задаем даты\n",
    "start_date = '2023-03-01'\n",
    "end_date = '2023-09-01'\n",
    "\n",
    "# Данные о посещениях\n",
    "visits_url = f'https://data-charts-api.hexlet.app/visits?begin={start_date}&end={end_date}'\n",
    "visits_response = requests.get(visits_url)\n",
    "visits_data = visits_response.json()\n",
    "\n",
    "# Данные о регистрациях\n",
    "registrations_url = f'https://data-charts-api.hexlet.app/registrations?begin={start_date}&end={end_date}'\n",
    "registrations_response = requests.get(registrations_url)\n",
    "registrations_data = registrations_response.json()\n",
    "\n",
    "# Преобразуем в DataFrame\n",
    "visits_df = pd.DataFrame(visits_data)\n",
    "registrations_df = pd.DataFrame(registrations_data)\n",
    "\n",
    "# Несколько строк данных\n",
    "print(visits_df.head())\n",
    "print(registrations_df.head())"
   ]
  },
  {
   "cell_type": "code",
   "execution_count": null,
   "id": "4ee52b63-1f0c-4d8a-a1d8-a7cb4a4d2fa9",
   "metadata": {},
   "outputs": [],
   "source": [
    "# Предварительный анализ данных\n",
    "print(visits_df.describe())\n",
    "print(registrations_df.describe())"
   ]
  },
  {
   "cell_type": "code",
   "execution_count": null,
   "id": "cc258be1-31ab-41f7-812a-12d911fa0aa6",
   "metadata": {},
   "outputs": [],
   "source": []
  }
 ],
 "metadata": {
  "kernelspec": {
   "display_name": "Python [conda env:anaconda3]",
   "language": "python",
   "name": "conda-env-anaconda3-py"
  },
  "language_info": {
   "codemirror_mode": {
    "name": "ipython",
    "version": 3
   },
   "file_extension": ".py",
   "mimetype": "text/x-python",
   "name": "python",
   "nbconvert_exporter": "python",
   "pygments_lexer": "ipython3",
   "version": "3.11.5"
  }
 },
 "nbformat": 4,
 "nbformat_minor": 5
}
