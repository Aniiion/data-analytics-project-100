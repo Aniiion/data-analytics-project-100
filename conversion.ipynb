{
 "cells": [
  {
   "cell_type": "code",
   "execution_count": 109,
   "id": "fb77722c",
   "metadata": {},
   "outputs": [],
   "source": [
    "import pandas as pd\n",
    "import requests"
   ]
  },
  {
   "cell_type": "code",
   "execution_count": 110,
   "id": "9e24dcd4",
   "metadata": {},
   "outputs": [],
   "source": [
    "# Данные о визитах\n",
    "visits_response = requests.get('https://data-charts-api.hexlet.app/visits?begin=2023-03-01&end=2023-09-01')\n",
    "visits_data = visits_response.json()"
   ]
  },
  {
   "cell_type": "code",
   "execution_count": 111,
   "id": "5e15a831",
   "metadata": {},
   "outputs": [],
   "source": [
    "# Данные о регистрациях\n",
    "registrations_response = requests.get('https://data-charts-api.hexlet.app/registrations?begin=2023-03-01&end=2023-09-01')\n",
    "registrations_data = registrations_response.json()"
   ]
  },
  {
   "cell_type": "code",
   "execution_count": 112,
   "id": "6b94097c",
   "metadata": {},
   "outputs": [],
   "source": [
    "visits_df = pd.DataFrame(visits_data)\n",
    "registrations_df = pd.DataFrame(registrations_data)"
   ]
  },
  {
   "cell_type": "code",
   "execution_count": 113,
   "id": "d6b13458",
   "metadata": {},
   "outputs": [],
   "source": [
    "# Удаление ботов\n",
    "visits_df = visits_df[~visits_df['user_agent'].str.contains('bot')]\n",
    "\n",
    "# Преобразование datetime\n",
    "visits_df['date'] = pd.to_datetime(visits_df['datetime']).dt.date\n",
    "\n",
    "# Оставляем последний визит\n",
    "visits_df = visits_df.sort_values('date').drop_duplicates('visit_id', keep='last')"
   ]
  },
  {
   "cell_type": "code",
   "execution_count": 114,
   "id": "e2b1b315",
   "metadata": {},
   "outputs": [],
   "source": [
    "# Группировка по дате и платформе\n",
    "visits_grouped = visits_df.groupby(['date', 'platform']).size().reset_index(name='visits')"
   ]
  },
  {
   "cell_type": "code",
   "execution_count": 115,
   "id": "161c338d",
   "metadata": {},
   "outputs": [],
   "source": [
    "# Преобразование даты регистраций\n",
    "registrations_df['date'] = pd.to_datetime(registrations_df['datetime']).dt.date"
   ]
  },
  {
   "cell_type": "code",
   "execution_count": 116,
   "id": "0254cefa",
   "metadata": {},
   "outputs": [],
   "source": [
    "# Группировка по дате и платформе\n",
    "registrations_grouped = registrations_df.groupby(['date', 'platform']).size().reset_index(name='registrations')"
   ]
  },
  {
   "cell_type": "code",
   "execution_count": 117,
   "id": "764846bc",
   "metadata": {},
   "outputs": [],
   "source": [
    "# Объединение датафреймов\n",
    "df = pd.merge(visits_grouped, registrations_grouped, on=['date', 'platform'], how='outer').fillna(0)"
   ]
  },
  {
   "cell_type": "code",
   "execution_count": 118,
   "id": "1c886da0",
   "metadata": {},
   "outputs": [],
   "source": [
    "# Расчет конверсии\n",
    "df['conversion'] = (df['registrations'] / df['visits']) * 100"
   ]
  },
  {
   "cell_type": "code",
   "execution_count": 119,
   "id": "b6dc70ce",
   "metadata": {},
   "outputs": [],
   "source": [
    "# Переименование столбца\n",
    "df = df.rename(columns={'date': 'date_group'})"
   ]
  },
  {
   "cell_type": "code",
   "execution_count": 120,
   "id": "d45601cb",
   "metadata": {},
   "outputs": [],
   "source": [
    "# Преобразование date_group в строковый формат\n",
    "df['date_group'] = df['date_group'].astype(str)"
   ]
  },
  {
   "cell_type": "code",
   "execution_count": 122,
   "id": "6edd8b46",
   "metadata": {},
   "outputs": [],
   "source": [
    "# Сохранение в формате JSON\n",
    "df.to_json('conversion.json', orient='columns')"
   ]
  },
  {
   "cell_type": "code",
   "execution_count": 123,
   "id": "55842039",
   "metadata": {},
   "outputs": [
    {
     "name": "stdout",
     "output_type": "stream",
     "text": [
      "     date_group platform  visits  registrations  conversion\n",
      "0    2023-03-01  android      75             61   81.333333\n",
      "1    2023-03-01      ios      22             18   81.818182\n",
      "2    2023-03-01      web     279              8    2.867384\n",
      "3    2023-03-02  android      67             59   88.059701\n",
      "4    2023-03-02      ios      31             24   77.419355\n",
      "..          ...      ...     ...            ...         ...\n",
      "547  2023-08-30      ios      66             40   60.606061\n",
      "548  2023-08-30      web    1227             34    2.770986\n",
      "549  2023-08-31  android      57             42   73.684211\n",
      "550  2023-08-31      ios      50             36   72.000000\n",
      "551  2023-08-31      web     721             46    6.380028\n",
      "\n",
      "[552 rows x 5 columns]\n"
     ]
    }
   ],
   "source": [
    "print(df)"
   ]
  }
 ],
 "metadata": {
  "kernelspec": {
   "display_name": "Python 3 (ipykernel)",
   "language": "python",
   "name": "python3"
  },
  "language_info": {
   "codemirror_mode": {
    "name": "ipython",
    "version": 3
   },
   "file_extension": ".py",
   "mimetype": "text/x-python",
   "name": "python",
   "nbconvert_exporter": "python",
   "pygments_lexer": "ipython3",
   "version": "3.11.5"
  }
 },
 "nbformat": 4,
 "nbformat_minor": 5
}
